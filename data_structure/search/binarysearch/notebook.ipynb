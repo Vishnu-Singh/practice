{
 "cells": [
  {
   "cell_type": "code",
   "execution_count": 21,
   "metadata": {},
   "outputs": [],
   "source": [
    "data = [2,1,3,9,10,8,21,6]"
   ]
  },
  {
   "cell_type": "code",
   "execution_count": 22,
   "metadata": {},
   "outputs": [],
   "source": [
    "def bin_sort(data:list,target)->tuple:\n",
    "    l = 0\n",
    "    h = len(data)-1\n",
    "    m = h//2\n",
    "    while l<=h:\n",
    "        m = l +(h-l)//2\n",
    "        if data[m]==target:\n",
    "            return m\n",
    "        \n",
    "        elif data[l]<target:\n",
    "            l = m + 1\n",
    "        elif data[h]>target:\n",
    "            h = m-1\n",
    "    print(\"data position: \",data[m])"
   ]
  },
  {
   "cell_type": "code",
   "execution_count": 23,
   "metadata": {},
   "outputs": [
    {
     "name": "stdout",
     "output_type": "stream",
     "text": [
      "data array:  [1, 2, 3, 6, 8, 9, 10, 21]\n",
      "3\n"
     ]
    }
   ],
   "source": [
    "data.sort()\n",
    "pos = bin_sort(data=data,target=6)\n",
    "print(\"data array: \",data)\n",
    "print(pos)"
   ]
  },
  {
   "cell_type": "code",
   "execution_count": null,
   "metadata": {},
   "outputs": [],
   "source": []
  }
 ],
 "metadata": {
  "kernelspec": {
   "display_name": "Python 3",
   "language": "python",
   "name": "python3"
  },
  "language_info": {
   "codemirror_mode": {
    "name": "ipython",
    "version": 3
   },
   "file_extension": ".py",
   "mimetype": "text/x-python",
   "name": "python",
   "nbconvert_exporter": "python",
   "pygments_lexer": "ipython3",
   "version": "3.10.11"
  },
  "orig_nbformat": 4
 },
 "nbformat": 4,
 "nbformat_minor": 2
}
